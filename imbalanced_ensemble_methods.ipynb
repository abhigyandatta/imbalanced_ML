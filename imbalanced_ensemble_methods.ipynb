{
 "cells": [
  {
   "cell_type": "markdown",
   "id": "0a44835b",
   "metadata": {},
   "source": [
    "We will be exploring the effects of resampling on Bagging and Boosting Algorithms and their performance."
   ]
  },
  {
   "cell_type": "code",
   "execution_count": 1,
   "id": "e951563e",
   "metadata": {},
   "outputs": [],
   "source": [
    "import numpy as np\n",
    "import pandas as pd\n",
    "import matplotlib.pyplot as plt\n",
    "import seaborn as sns"
   ]
  },
  {
   "cell_type": "code",
   "execution_count": 2,
   "id": "14d9e8fd",
   "metadata": {},
   "outputs": [],
   "source": [
    "from sklearn.model_selection import train_test_split\n",
    "from sklearn.metrics import accuracy_score,balanced_accuracy_score,roc_auc_score,classification_report,confusion_matrix\n",
    "\n",
    "from sklearn.linear_model import LogisticRegression\n",
    "from sklearn.ensemble import RandomForestClassifier,BaggingClassifier,AdaBoostClassifier\n",
    "\n",
    "from sklearn.preprocessing import MinMaxScaler\n",
    "\n",
    "from imblearn.datasets import fetch_datasets\n",
    "\n",
    "from imblearn.under_sampling import RandomUnderSampler\n",
    "\n",
    "from imblearn.over_sampling import SMOTE\n",
    "\n",
    "from imblearn.ensemble import BalancedBaggingClassifier, BalancedRandomForestClassifier,RUSBoostClassifier,EasyEnsembleClassifier"
   ]
  },
  {
   "cell_type": "code",
   "execution_count": 3,
   "id": "de5d67be",
   "metadata": {},
   "outputs": [],
   "source": [
    "# resampling methods dictionaries\n",
    "\n",
    "resampling_dict={'random': RandomUnderSampler(random_state=50,replacement=False) ,\n",
    "                'smote': SMOTE(random_state=50,k_neighbors=5,n_jobs=-1) }"
   ]
  },
  {
   "cell_type": "code",
   "execution_count": 4,
   "id": "2a2d5099",
   "metadata": {},
   "outputs": [],
   "source": [
    "# ensemble methods dictionary\n",
    "\n",
    "ensemble_dict={  #RandomForest(Random Forest + undersampling)\n",
    "                'balancedRF':BalancedRandomForestClassifier(n_estimators=20,criterion='gini',\n",
    "                                                           max_depth=3,sampling_strategy='auto',\n",
    "                                                           n_jobs=-1,random_state=50),\n",
    "                \n",
    "                # Bagging of Logistic Regression (no resampling)              \n",
    "               'logit_bag':BaggingClassifier(base_estimator=LogisticRegression(random_state=50),\n",
    "                                        n_estimators=20,n_jobs=-1,random_state=50),\n",
    "    \n",
    "                # Bagging of Logistic Regression (with resampling)\n",
    "                'logit_balance':BalancedBaggingClassifier(base_estimator=LogisticRegression(random_state=50),\n",
    "                                                         n_estimators=20,n_jobs=-1,random_state=50,\n",
    "                                                         sampling_strategy='auto',max_features=1.0,\n",
    "                                                         max_samples=1.0),\n",
    "    \n",
    "                # boosting+undersampling\n",
    "                'rusboost':RUSBoostClassifier(base_estimator=None, #None means Decision Stump\n",
    "                                             n_estimators=20,sampling_strategy='auto',\n",
    "                                             random_state=50),\n",
    "    \n",
    "                # bagging+boosting+ensemble\n",
    "                'easyensemble': EasyEnsembleClassifier(n_estimators=20,n_jobs=-1,random_state=50,   #uses Adaboost by default\n",
    "                                                      sampling_strategy='auto')\n",
    "              \n",
    "              }"
   ]
  },
  {
   "cell_type": "markdown",
   "id": "693478c5",
   "metadata": {},
   "source": [
    "# Loading the dataset"
   ]
  },
  {
   "cell_type": "code",
   "execution_count": 5,
   "id": "7f8e3546",
   "metadata": {},
   "outputs": [],
   "source": [
    "data=fetch_datasets()['thyroid_sick']"
   ]
  },
  {
   "cell_type": "code",
   "execution_count": 6,
   "id": "21a60344",
   "metadata": {},
   "outputs": [],
   "source": [
    "df=pd.DataFrame(data=data.data,columns=[str(i) for i in range(52)])"
   ]
  },
  {
   "cell_type": "code",
   "execution_count": 7,
   "id": "94a10388",
   "metadata": {},
   "outputs": [],
   "source": [
    "df['target']=data.target"
   ]
  },
  {
   "cell_type": "code",
   "execution_count": 8,
   "id": "76bf18d3",
   "metadata": {},
   "outputs": [],
   "source": [
    "df['target']=df['target'].map({-1:0,1:1})"
   ]
  },
  {
   "cell_type": "code",
   "execution_count": 9,
   "id": "d40043a8",
   "metadata": {},
   "outputs": [
    {
     "data": {
      "text/plain": [
       "0    3541\n",
       "1     231\n",
       "Name: target, dtype: int64"
      ]
     },
     "execution_count": 9,
     "metadata": {},
     "output_type": "execute_result"
    }
   ],
   "source": [
    "df['target'].value_counts()"
   ]
  },
  {
   "cell_type": "markdown",
   "id": "2a1b3116",
   "metadata": {},
   "source": [
    "# Train Test Split"
   ]
  },
  {
   "cell_type": "code",
   "execution_count": 10,
   "id": "dc98f530",
   "metadata": {},
   "outputs": [],
   "source": [
    "X=df.drop('target',axis=1)\n",
    "y=df['target']"
   ]
  },
  {
   "cell_type": "code",
   "execution_count": 11,
   "id": "ac8a1252",
   "metadata": {},
   "outputs": [],
   "source": [
    "X_train,X_test,y_train,y_test=train_test_split(X,y,test_size=0.3,random_state=50)"
   ]
  },
  {
   "cell_type": "code",
   "execution_count": 12,
   "id": "4942c9f2",
   "metadata": {},
   "outputs": [
    {
     "name": "stdout",
     "output_type": "stream",
     "text": [
      "(2640, 52)\n",
      "(1132, 52)\n",
      "(2640,)\n",
      "(1132,)\n"
     ]
    }
   ],
   "source": [
    "print(X_train.shape)\n",
    "print(X_test.shape)\n",
    "print(y_train.shape)\n",
    "print(y_test.shape)"
   ]
  },
  {
   "cell_type": "code",
   "execution_count": 13,
   "id": "1db09252",
   "metadata": {},
   "outputs": [],
   "source": [
    "# Preprocessing the data\n",
    "\n",
    "scaler=MinMaxScaler()\n",
    "scaler.fit(X_train)\n",
    "X_train=scaler.transform(X_train)\n",
    "X_test=scaler.transform(X_test)"
   ]
  },
  {
   "cell_type": "code",
   "execution_count": 14,
   "id": "cf103f90",
   "metadata": {},
   "outputs": [],
   "source": [
    "# function to train and predict with vanilla Random Forest Model\n",
    "def run_rf(X_train,X_test,y_train,y_test):\n",
    "    print('Random Forest Vanilla Model')\n",
    "    rf=RandomForestClassifier(n_estimators=20,max_depth=3,n_jobs=-1,random_state=50)\n",
    "    rf.fit(X_train,y_train)\n",
    "    \n",
    "    y_train_proba=rf.predict_proba(X_train)\n",
    "    print('Random Forests Training roc_auc: {}'.format(roc_auc_score(y_train,y_train_proba[:,1])))\n",
    "    \n",
    "    y_test_proba=rf.predict_proba(X_test)\n",
    "    print('Random Forests Test roc_auc: {}'.format(roc_auc_score(y_test,y_test_proba[:,1])))\n",
    "    \n",
    "    return roc_auc_score(y_test,y_test_proba[:,1])"
   ]
  },
  {
   "cell_type": "code",
   "execution_count": 15,
   "id": "8a75da58",
   "metadata": {},
   "outputs": [],
   "source": [
    "# function to train and predict with vanilla Adaboost Model\n",
    "def run_adaboost(X_train,X_test,y_train,y_test):\n",
    "    print('Adaboost Vanilla Model')\n",
    "    ada=AdaBoostClassifier(n_estimators=20,random_state=50)\n",
    "    ada.fit(X_train,y_train)\n",
    "    \n",
    "    y_train_proba=ada.predict_proba(X_train)\n",
    "    print('AdaBoost Training roc_auc: {}'.format(roc_auc_score(y_train,y_train_proba[:,1])))\n",
    "    \n",
    "    y_test_proba=ada.predict_proba(X_test)\n",
    "    print('AdaBoost Test roc_auc: {}'.format(roc_auc_score(y_test,y_test_proba[:,1])))\n",
    "    \n",
    "    return roc_auc_score(y_test,y_test_proba[:,1])"
   ]
  },
  {
   "cell_type": "code",
   "execution_count": 16,
   "id": "58849dc2",
   "metadata": {},
   "outputs": [],
   "source": [
    "# function to train ensembles and evaluate their performance\n",
    "\n",
    "def run_ensemble (ensemble,X_train,X_test,y_train,y_test):\n",
    "    ensemble.fit(X_train,y_train)\n",
    "    \n",
    "    y_train_proba=ensemble.predict_proba(X_train)\n",
    "    print('Ensemble training roc_auc: {}'.format(roc_auc_score(y_train,y_train_proba[:,1])))\n",
    "    \n",
    "    y_test_proba=ensemble.predict_proba(X_test)\n",
    "    print('Ensemble test roc_auc: {}'.format(roc_auc_score(y_test,y_test_proba[:,1])))\n",
    "    \n",
    "    return roc_auc_score(y_test,y_test_proba[:,1])"
   ]
  },
  {
   "cell_type": "markdown",
   "id": "68e0f9be",
   "metadata": {},
   "source": [
    "# Evaluating the results"
   ]
  },
  {
   "cell_type": "code",
   "execution_count": 17,
   "id": "4f9f84a6",
   "metadata": {},
   "outputs": [
    {
     "name": "stdout",
     "output_type": "stream",
     "text": [
      "Random Forest Vanilla Model\n",
      "Random Forests Training roc_auc: 0.9772769809685173\n",
      "Random Forests Test roc_auc: 0.9512297666596594\n"
     ]
    }
   ],
   "source": [
    "results_dict={}\n",
    "\n",
    "# train random forest and save the result\n",
    "roc=run_rf(X_train,X_test,y_train,y_test)\n",
    "results_dict['full_data_random_forest']=roc"
   ]
  },
  {
   "cell_type": "code",
   "execution_count": 18,
   "id": "3e270b02",
   "metadata": {},
   "outputs": [
    {
     "name": "stdout",
     "output_type": "stream",
     "text": [
      "Adaboost Vanilla Model\n",
      "AdaBoost Training roc_auc: 0.9910703731431498\n",
      "AdaBoost Test roc_auc: 0.9809543830145049\n"
     ]
    }
   ],
   "source": [
    "# train adaboost and save the result\n",
    "roc=run_adaboost(X_train,X_test,y_train,y_test)\n",
    "results_dict['full_data_adaboost']=roc"
   ]
  },
  {
   "cell_type": "code",
   "execution_count": 19,
   "id": "0d894ef0",
   "metadata": {},
   "outputs": [
    {
     "data": {
      "text/plain": [
       "{'full_data_random_forest': 0.9512297666596594,\n",
       " 'full_data_adaboost': 0.9809543830145049}"
      ]
     },
     "execution_count": 19,
     "metadata": {},
     "output_type": "execute_result"
    }
   ],
   "source": [
    "results_dict"
   ]
  },
  {
   "cell_type": "code",
   "execution_count": 21,
   "id": "1c18b9e0",
   "metadata": {},
   "outputs": [
    {
     "name": "stdout",
     "output_type": "stream",
     "text": [
      "random\n",
      "Random Forest Vanilla Model\n",
      "Random Forests Training roc_auc: 0.977821980963712\n",
      "Random Forests Test roc_auc: 0.9584051573120314\n",
      "smote\n",
      "Random Forest Vanilla Model\n",
      "Random Forests Training roc_auc: 0.9812716619123554\n",
      "Random Forests Test roc_auc: 0.9563450353864481\n"
     ]
    }
   ],
   "source": [
    "# train random Forest with sampler\n",
    "for sampler in resampling_dict.keys():\n",
    "    print(sampler)\n",
    "    \n",
    "    #resample\n",
    "    X_train_resampled,y_train_resampled=resampling_dict[sampler].fit_resample(X_train,y_train)\n",
    "    \n",
    "    # train model on resampled data\n",
    "    roc=run_rf(X_train_resampled,X_test,y_train_resampled,y_test)\n",
    "    results_dict[sampler]=roc"
   ]
  },
  {
   "cell_type": "code",
   "execution_count": 22,
   "id": "8d1c8a66",
   "metadata": {},
   "outputs": [
    {
     "data": {
      "text/plain": [
       "{'full_data_random_forest': 0.9512297666596594,\n",
       " 'full_data_adaboost': 0.9809543830145049,\n",
       " 'random': 0.9584051573120314,\n",
       " 'smote': 0.9563450353864481}"
      ]
     },
     "execution_count": 22,
     "metadata": {},
     "output_type": "execute_result"
    }
   ],
   "source": [
    "results_dict"
   ]
  },
  {
   "cell_type": "code",
   "execution_count": 23,
   "id": "223f5e7c",
   "metadata": {},
   "outputs": [
    {
     "name": "stdout",
     "output_type": "stream",
     "text": [
      "balancedRF\n",
      "Ensemble training roc_auc: 0.9772794436345009\n",
      "Ensemble test roc_auc: 0.9592179945343704\n",
      "\n",
      "logit_bag\n",
      "Ensemble training roc_auc: 0.9343231608810433\n",
      "Ensemble test roc_auc: 0.9060332142106369\n",
      "\n",
      "logit_balance\n",
      "Ensemble training roc_auc: 0.9161609992513494\n",
      "Ensemble test roc_auc: 0.886160745567935\n",
      "\n",
      "rusboost\n",
      "Ensemble training roc_auc: 0.9837981204933213\n",
      "Ensemble test roc_auc: 0.9733585593160955\n",
      "\n",
      "easyensemble\n",
      "Ensemble training roc_auc: 0.9883786792229796\n",
      "Ensemble test roc_auc: 0.9770163268166211\n",
      "\n"
     ]
    }
   ],
   "source": [
    "# run ensembles of bagging and boosting with resamplings\n",
    "for ensemble in ensemble_dict.keys():\n",
    "    print(ensemble)\n",
    "    \n",
    "    roc=run_ensemble(ensemble_dict[ensemble],X_train,X_test,y_train,y_test)\n",
    "    results_dict[ensemble]=roc\n",
    "    print()"
   ]
  },
  {
   "cell_type": "code",
   "execution_count": 24,
   "id": "a0fb58da",
   "metadata": {},
   "outputs": [
    {
     "data": {
      "text/plain": [
       "{'full_data_random_forest': 0.9512297666596594,\n",
       " 'full_data_adaboost': 0.9809543830145049,\n",
       " 'random': 0.9584051573120314,\n",
       " 'smote': 0.9563450353864481,\n",
       " 'balancedRF': 0.9592179945343704,\n",
       " 'logit_bag': 0.9060332142106369,\n",
       " 'logit_balance': 0.886160745567935,\n",
       " 'rusboost': 0.9733585593160955,\n",
       " 'easyensemble': 0.9770163268166211}"
      ]
     },
     "execution_count": 24,
     "metadata": {},
     "output_type": "execute_result"
    }
   ],
   "source": [
    "results_dict"
   ]
  },
  {
   "cell_type": "markdown",
   "id": "96b7d56f",
   "metadata": {},
   "source": [
    "# Visulaizing and comparing performance of the models"
   ]
  },
  {
   "cell_type": "code",
   "execution_count": 26,
   "id": "044b8652",
   "metadata": {},
   "outputs": [
    {
     "data": {
      "image/png": "[encoded data removed]",
      "text/plain": [
       "<Figure size 432x288 with 1 Axes>"
      ]
     },
     "metadata": {
      "needs_background": "light"
     },
     "output_type": "display_data"
    }
   ],
   "source": [
    "pd.Series(results_dict).plot.bar()\n",
    "plt.title('Comparison of models roc_auc score')\n",
    "plt.ylabel('roc-auc')\n",
    "plt.ylim([0.8,1])\n",
    "plt.axhline(results_dict['full_data_random_forest'], color='r')\n",
    "plt.show()"
   ]
  },
  {
   "cell_type": "markdown",
   "id": "b3add7f2",
   "metadata": {},
   "source": [
    "# Conclusion:\n",
    "    1) Boosting performs better than Bagging algorithms.\n",
    "    2) Logistic Regression Bagging is worser than random forest (ie decision tree bagging).\n",
    "    3) random_undersampling and smote_oversampling only marginally improves the roc_auc for Random forest.\n",
    "    4) For Boosting, resampling doesn't efect the roc_auc that much, hence vanilla boosting models can be used."
   ]
  },
  {
   "cell_type": "code",
   "execution_count": null,
   "id": "ccada374",
   "metadata": {},
   "outputs": [],
   "source": []
  }
 ],
 "metadata": {
  "kernelspec": {
   "display_name": "Python 3 (ipykernel)",
   "language": "python",
   "name": "python3"
  },
  "language_info": {
   "codemirror_mode": {
    "name": "ipython",
    "version": 3
   },
   "file_extension": ".py",
   "mimetype": "text/x-python",
   "name": "python",
   "nbconvert_exporter": "python",
   "pygments_lexer": "ipython3",
   "version": "3.7.13"
  }
 },
 "nbformat": 4,
 "nbformat_minor": 5
}
