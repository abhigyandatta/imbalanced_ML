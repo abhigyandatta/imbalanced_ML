{
 "cells": [
  {
   "cell_type": "code",
   "execution_count": 1,
   "id": "83d079af",
   "metadata": {},
   "outputs": [],
   "source": [
    "import numpy as np\n",
    "import pandas as pd\n",
    "from imblearn.datasets import fetch_datasets \n",
    "import matplotlib.pyplot as plt"
   ]
  },
  {
   "cell_type": "code",
   "execution_count": 2,
   "id": "3ed32ec3",
   "metadata": {},
   "outputs": [],
   "source": [
    "from sklearn.model_selection import train_test_split\n",
    "from sklearn.metrics import accuracy_score\n",
    "from sklearn.linear_model import LogisticRegression\n",
    "from sklearn.ensemble import RandomForestClassifier"
   ]
  },
  {
   "cell_type": "code",
   "execution_count": 3,
   "id": "bae481bd",
   "metadata": {},
   "outputs": [],
   "source": [
    "from sklearn.metrics import precision_score,recall_score,f1_score,balanced_accuracy_score,classification_report\n",
    "from yellowbrick.classifier import ClassificationReport,DiscriminationThreshold"
   ]
  },
  {
   "cell_type": "code",
   "execution_count": 4,
   "id": "f2b1d574",
   "metadata": {},
   "outputs": [],
   "source": [
    "data=fetch_datasets()['protein_homo']"
   ]
  },
  {
   "cell_type": "code",
   "execution_count": 5,
   "id": "5ef5e89e",
   "metadata": {},
   "outputs": [],
   "source": [
    "df=pd.DataFrame(data=data.data,columns=[str(i) for i in range(74)])"
   ]
  },
  {
   "cell_type": "code",
   "execution_count": 6,
   "id": "6ff458a4",
   "metadata": {},
   "outputs": [
    {
     "data": {
      "text/html": [
       "<div>\n",
       "<style scoped>\n",
       "    .dataframe tbody tr th:only-of-type {\n",
       "        vertical-align: middle;\n",
       "    }\n",
       "\n",
       "    .dataframe tbody tr th {\n",
       "        vertical-align: top;\n",
       "    }\n",
       "\n",
       "    .dataframe thead th {\n",
       "        text-align: right;\n",
       "    }\n",
       "</style>\n",
       "<table border=\"1\" class=\"dataframe\">\n",
       "  <thead>\n",
       "    <tr style=\"text-align: right;\">\n",
       "      <th></th>\n",
       "      <th>0</th>\n",
       "      <th>1</th>\n",
       "      <th>2</th>\n",
       "      <th>3</th>\n",
       "      <th>4</th>\n",
       "      <th>5</th>\n",
       "      <th>6</th>\n",
       "      <th>7</th>\n",
       "      <th>8</th>\n",
       "      <th>9</th>\n",
       "      <th>...</th>\n",
       "      <th>64</th>\n",
       "      <th>65</th>\n",
       "      <th>66</th>\n",
       "      <th>67</th>\n",
       "      <th>68</th>\n",
       "      <th>69</th>\n",
       "      <th>70</th>\n",
       "      <th>71</th>\n",
       "      <th>72</th>\n",
       "      <th>73</th>\n",
       "    </tr>\n",
       "  </thead>\n",
       "  <tbody>\n",
       "    <tr>\n",
       "      <th>0</th>\n",
       "      <td>52.0</td>\n",
       "      <td>32.69</td>\n",
       "      <td>0.3</td>\n",
       "      <td>2.5</td>\n",
       "      <td>20.0</td>\n",
       "      <td>1256.8</td>\n",
       "      <td>-0.89</td>\n",
       "      <td>0.33</td>\n",
       "      <td>11.0</td>\n",
       "      <td>-55.0</td>\n",
       "      <td>...</td>\n",
       "      <td>-8.0</td>\n",
       "      <td>1595.1</td>\n",
       "      <td>-1.64</td>\n",
       "      <td>2.83</td>\n",
       "      <td>-2.0</td>\n",
       "      <td>-50.0</td>\n",
       "      <td>445.2</td>\n",
       "      <td>-0.35</td>\n",
       "      <td>0.26</td>\n",
       "      <td>0.76</td>\n",
       "    </tr>\n",
       "    <tr>\n",
       "      <th>1</th>\n",
       "      <td>58.0</td>\n",
       "      <td>33.33</td>\n",
       "      <td>0.0</td>\n",
       "      <td>16.5</td>\n",
       "      <td>9.5</td>\n",
       "      <td>608.1</td>\n",
       "      <td>0.50</td>\n",
       "      <td>0.07</td>\n",
       "      <td>20.5</td>\n",
       "      <td>-52.5</td>\n",
       "      <td>...</td>\n",
       "      <td>-6.0</td>\n",
       "      <td>762.9</td>\n",
       "      <td>0.29</td>\n",
       "      <td>0.82</td>\n",
       "      <td>-3.0</td>\n",
       "      <td>-35.0</td>\n",
       "      <td>140.3</td>\n",
       "      <td>1.16</td>\n",
       "      <td>0.39</td>\n",
       "      <td>0.73</td>\n",
       "    </tr>\n",
       "  </tbody>\n",
       "</table>\n",
       "<p>2 rows × 74 columns</p>\n",
       "</div>"
      ],
      "text/plain": [
       "      0      1    2     3     4       5     6     7     8     9  ...   64  \\\n",
       "0  52.0  32.69  0.3   2.5  20.0  1256.8 -0.89  0.33  11.0 -55.0  ... -8.0   \n",
       "1  58.0  33.33  0.0  16.5   9.5   608.1  0.50  0.07  20.5 -52.5  ... -6.0   \n",
       "\n",
       "       65    66    67   68    69     70    71    72    73  \n",
       "0  1595.1 -1.64  2.83 -2.0 -50.0  445.2 -0.35  0.26  0.76  \n",
       "1   762.9  0.29  0.82 -3.0 -35.0  140.3  1.16  0.39  0.73  \n",
       "\n",
       "[2 rows x 74 columns]"
      ]
     },
     "execution_count": 6,
     "metadata": {},
     "output_type": "execute_result"
    }
   ],
   "source": [
    "df.head(2)"
   ]
  },
  {
   "cell_type": "code",
   "execution_count": 7,
   "id": "52212303",
   "metadata": {},
   "outputs": [],
   "source": [
    "df['target']=data.target"
   ]
  },
  {
   "cell_type": "code",
   "execution_count": 8,
   "id": "bb28e06b",
   "metadata": {},
   "outputs": [
    {
     "data": {
      "text/html": [
       "<div>\n",
       "<style scoped>\n",
       "    .dataframe tbody tr th:only-of-type {\n",
       "        vertical-align: middle;\n",
       "    }\n",
       "\n",
       "    .dataframe tbody tr th {\n",
       "        vertical-align: top;\n",
       "    }\n",
       "\n",
       "    .dataframe thead th {\n",
       "        text-align: right;\n",
       "    }\n",
       "</style>\n",
       "<table border=\"1\" class=\"dataframe\">\n",
       "  <thead>\n",
       "    <tr style=\"text-align: right;\">\n",
       "      <th></th>\n",
       "      <th>0</th>\n",
       "      <th>1</th>\n",
       "      <th>2</th>\n",
       "      <th>3</th>\n",
       "      <th>4</th>\n",
       "      <th>5</th>\n",
       "      <th>6</th>\n",
       "      <th>7</th>\n",
       "      <th>8</th>\n",
       "      <th>9</th>\n",
       "      <th>...</th>\n",
       "      <th>65</th>\n",
       "      <th>66</th>\n",
       "      <th>67</th>\n",
       "      <th>68</th>\n",
       "      <th>69</th>\n",
       "      <th>70</th>\n",
       "      <th>71</th>\n",
       "      <th>72</th>\n",
       "      <th>73</th>\n",
       "      <th>target</th>\n",
       "    </tr>\n",
       "  </thead>\n",
       "  <tbody>\n",
       "    <tr>\n",
       "      <th>0</th>\n",
       "      <td>52.0</td>\n",
       "      <td>32.69</td>\n",
       "      <td>0.3</td>\n",
       "      <td>2.5</td>\n",
       "      <td>20.0</td>\n",
       "      <td>1256.8</td>\n",
       "      <td>-0.89</td>\n",
       "      <td>0.33</td>\n",
       "      <td>11.0</td>\n",
       "      <td>-55.0</td>\n",
       "      <td>...</td>\n",
       "      <td>1595.1</td>\n",
       "      <td>-1.64</td>\n",
       "      <td>2.83</td>\n",
       "      <td>-2.0</td>\n",
       "      <td>-50.0</td>\n",
       "      <td>445.2</td>\n",
       "      <td>-0.35</td>\n",
       "      <td>0.26</td>\n",
       "      <td>0.76</td>\n",
       "      <td>-1</td>\n",
       "    </tr>\n",
       "    <tr>\n",
       "      <th>1</th>\n",
       "      <td>58.0</td>\n",
       "      <td>33.33</td>\n",
       "      <td>0.0</td>\n",
       "      <td>16.5</td>\n",
       "      <td>9.5</td>\n",
       "      <td>608.1</td>\n",
       "      <td>0.50</td>\n",
       "      <td>0.07</td>\n",
       "      <td>20.5</td>\n",
       "      <td>-52.5</td>\n",
       "      <td>...</td>\n",
       "      <td>762.9</td>\n",
       "      <td>0.29</td>\n",
       "      <td>0.82</td>\n",
       "      <td>-3.0</td>\n",
       "      <td>-35.0</td>\n",
       "      <td>140.3</td>\n",
       "      <td>1.16</td>\n",
       "      <td>0.39</td>\n",
       "      <td>0.73</td>\n",
       "      <td>-1</td>\n",
       "    </tr>\n",
       "  </tbody>\n",
       "</table>\n",
       "<p>2 rows × 75 columns</p>\n",
       "</div>"
      ],
      "text/plain": [
       "      0      1    2     3     4       5     6     7     8     9  ...      65  \\\n",
       "0  52.0  32.69  0.3   2.5  20.0  1256.8 -0.89  0.33  11.0 -55.0  ...  1595.1   \n",
       "1  58.0  33.33  0.0  16.5   9.5   608.1  0.50  0.07  20.5 -52.5  ...   762.9   \n",
       "\n",
       "     66    67   68    69     70    71    72    73  target  \n",
       "0 -1.64  2.83 -2.0 -50.0  445.2 -0.35  0.26  0.76      -1  \n",
       "1  0.29  0.82 -3.0 -35.0  140.3  1.16  0.39  0.73      -1  \n",
       "\n",
       "[2 rows x 75 columns]"
      ]
     },
     "execution_count": 8,
     "metadata": {},
     "output_type": "execute_result"
    }
   ],
   "source": [
    "df.head(2)"
   ]
  },
  {
   "cell_type": "code",
   "execution_count": 9,
   "id": "b9e58d8f",
   "metadata": {},
   "outputs": [],
   "source": [
    "df['target']=df['target'].map({-1:0,1:1})"
   ]
  },
  {
   "cell_type": "code",
   "execution_count": 10,
   "id": "8a7e7400",
   "metadata": {},
   "outputs": [
    {
     "data": {
      "text/plain": [
       "0    99.110812\n",
       "1     0.889188\n",
       "Name: target, dtype: float64"
      ]
     },
     "execution_count": 10,
     "metadata": {},
     "output_type": "execute_result"
    }
   ],
   "source": [
    "# imbalance ratio\n",
    "100*df['target'].value_counts()/len(df)"
   ]
  },
  {
   "cell_type": "markdown",
   "id": "238a6ea9",
   "metadata": {},
   "source": [
    "Less than 1 % is positive class"
   ]
  },
  {
   "cell_type": "code",
   "execution_count": 11,
   "id": "cae17d07",
   "metadata": {},
   "outputs": [
    {
     "data": {
      "text/plain": [
       "(145751, 75)"
      ]
     },
     "execution_count": 11,
     "metadata": {},
     "output_type": "execute_result"
    }
   ],
   "source": [
    "df.shape"
   ]
  },
  {
   "cell_type": "markdown",
   "id": "627c8d40",
   "metadata": {},
   "source": [
    "# Train Test Split"
   ]
  },
  {
   "cell_type": "code",
   "execution_count": 12,
   "id": "9620dc86",
   "metadata": {},
   "outputs": [],
   "source": [
    "X=df.drop(columns=['target'])\n",
    "y=df['target']"
   ]
  },
  {
   "cell_type": "code",
   "execution_count": 13,
   "id": "4dfa57d9",
   "metadata": {},
   "outputs": [],
   "source": [
    "X_train, X_test, y_train, y_test = train_test_split(X, y, test_size=0.3, random_state=28)"
   ]
  },
  {
   "cell_type": "code",
   "execution_count": 14,
   "id": "5f678dc3",
   "metadata": {},
   "outputs": [
    {
     "name": "stdout",
     "output_type": "stream",
     "text": [
      "(102025, 74)\n",
      "(43726, 74)\n",
      "(102025,)\n",
      "(43726,)\n"
     ]
    }
   ],
   "source": [
    "print(X_train.shape)\n",
    "print(X_test.shape)\n",
    "print(y_train.shape)\n",
    "print(y_test.shape)"
   ]
  },
  {
   "cell_type": "markdown",
   "id": "0f5edfbf",
   "metadata": {},
   "source": [
    "## Baseline Model\n",
    "### (A model that always predicts the majority class)"
   ]
  },
  {
   "cell_type": "code",
   "execution_count": 15,
   "id": "7894436b",
   "metadata": {},
   "outputs": [],
   "source": [
    "y_base_train=pd.Series(np.zeros(len(y_train)))\n",
    "y_base_test=pd.Series(np.zeros(len(y_test)))"
   ]
  },
  {
   "cell_type": "markdown",
   "id": "ee7d7bca",
   "metadata": {},
   "source": [
    "# Train ML models"
   ]
  },
  {
   "cell_type": "code",
   "execution_count": 16,
   "id": "ae01dcd1",
   "metadata": {},
   "outputs": [
    {
     "data": {
      "text/plain": [
       "RandomForestClassifier(max_depth=4, n_jobs=-1, random_state=22)"
      ]
     },
     "execution_count": 16,
     "metadata": {},
     "output_type": "execute_result"
    }
   ],
   "source": [
    "rf=RandomForestClassifier(max_depth=4,n_jobs=-1,random_state=22)\n",
    "\n",
    "rf.fit(X_train,y_train)"
   ]
  },
  {
   "cell_type": "code",
   "execution_count": 17,
   "id": "ecd10575",
   "metadata": {},
   "outputs": [],
   "source": [
    "y_train_rf=rf.predict_proba(X_train)[:,1]\n",
    "y_test_rf=rf.predict_proba(X_test)[:,1]"
   ]
  },
  {
   "cell_type": "code",
   "execution_count": 18,
   "id": "4f26598a",
   "metadata": {},
   "outputs": [
    {
     "name": "stderr",
     "output_type": "stream",
     "text": [
      "C:\\Users\\ABHIGYAN\\AppData\\Roaming\\Python\\Python37\\site-packages\\sklearn\\linear_model\\_logistic.py:818: ConvergenceWarning: lbfgs failed to converge (status=1):\n",
      "STOP: TOTAL NO. of ITERATIONS REACHED LIMIT.\n",
      "\n",
      "Increase the number of iterations (max_iter) or scale the data as shown in:\n",
      "    https://scikit-learn.org/stable/modules/preprocessing.html\n",
      "Please also refer to the documentation for alternative solver options:\n",
      "    https://scikit-learn.org/stable/modules/linear_model.html#logistic-regression\n",
      "  extra_warning_msg=_LOGISTIC_SOLVER_CONVERGENCE_MSG,\n"
     ]
    },
    {
     "data": {
      "text/plain": [
       "LogisticRegression(max_iter=200, random_state=22)"
      ]
     },
     "execution_count": 18,
     "metadata": {},
     "output_type": "execute_result"
    }
   ],
   "source": [
    "log_reg=LogisticRegression(max_iter=200,random_state=22)\n",
    "\n",
    "log_reg.fit(X_train,y_train)"
   ]
  },
  {
   "cell_type": "code",
   "execution_count": 19,
   "id": "fd1e581c",
   "metadata": {},
   "outputs": [],
   "source": [
    "y_train_logit=log_reg.predict_proba(X_train)[:,1]\n",
    "y_test_logit=log_reg.predict_proba(X_test)[:,1]"
   ]
  },
  {
   "cell_type": "markdown",
   "id": "b90c9a58",
   "metadata": {},
   "source": [
    "# Accuracy"
   ]
  },
  {
   "cell_type": "code",
   "execution_count": 20,
   "id": "1f5fd0cc",
   "metadata": {},
   "outputs": [
    {
     "name": "stdout",
     "output_type": "stream",
     "text": [
      "Baseline Accuracy:99.11951699217857\n",
      "Random Forest Accuracy:99.65695467227737\n",
      "Logistic Regression Accuracy:99.67525042308924\n"
     ]
    }
   ],
   "source": [
    "print('Baseline Accuracy:{}'.format(100*accuracy_score(y_test,y_base_test)))\n",
    "print('Random Forest Accuracy:{}'.format(100*accuracy_score(y_test,rf.predict(X_test))))\n",
    "print('Logistic Regression Accuracy:{}'.format(100*accuracy_score(y_test,log_reg.predict(X_test))))"
   ]
  },
  {
   "cell_type": "markdown",
   "id": "bdc00b6d",
   "metadata": {},
   "source": [
    "## Percentage of Minority Correctly Classified"
   ]
  },
  {
   "cell_type": "code",
   "execution_count": 21,
   "id": "159faf09",
   "metadata": {},
   "outputs": [],
   "source": [
    "def minority_correct_percent(y_true,y_pred):\n",
    "    flag=np.where((y_true==1)&(y_pred==1),1,0)    #flag correct classified minority as 1 and incorrect as 0\n",
    "    \n",
    "    total_minority=np.sum(y_true)\n",
    "    minority_correct=np.sum(flag)\n",
    "    \n",
    "    return 100*minority_correct/total_minority\n",
    "    "
   ]
  },
  {
   "cell_type": "code",
   "execution_count": 22,
   "id": "81f64eaf",
   "metadata": {},
   "outputs": [
    {
     "name": "stdout",
     "output_type": "stream",
     "text": [
      "Baseline Model (minority correctly classified): 0.0\n",
      "Random_Forest Model (minority correctly classified): 61.55844155844156\n",
      "Logistic_Reg Model (minority correctly classified): 67.27272727272727\n"
     ]
    }
   ],
   "source": [
    "print(\"Baseline Model (minority correctly classified): {}\".format(minority_correct_percent(y_test,y_base_test)))\n",
    "print(\"Random_Forest Model (minority correctly classified): {}\".format(minority_correct_percent(y_test,rf.predict(X_test))))\n",
    "print(\"Logistic_Reg Model (minority correctly classified): {}\".format(minority_correct_percent(y_test,log_reg.predict(X_test))))"
   ]
  },
  {
   "cell_type": "markdown",
   "id": "8784b5e8",
   "metadata": {},
   "source": [
    "#### So, only 61% and 67% of minority class were correctly classified by RF and Log_reg models"
   ]
  },
  {
   "cell_type": "markdown",
   "id": "2bfa5b90",
   "metadata": {},
   "source": [
    "# Precision\n",
    "### percent of predicted postives that are actually positive"
   ]
  },
  {
   "cell_type": "code",
   "execution_count": 23,
   "id": "fd6f14d4",
   "metadata": {},
   "outputs": [
    {
     "name": "stdout",
     "output_type": "stream",
     "text": [
      "Baseline Precision:0.0\n"
     ]
    },
    {
     "name": "stderr",
     "output_type": "stream",
     "text": [
      "C:\\Users\\ABHIGYAN\\AppData\\Roaming\\Python\\Python37\\site-packages\\sklearn\\metrics\\_classification.py:1318: UndefinedMetricWarning: Precision is ill-defined and being set to 0.0 due to no predicted samples. Use `zero_division` parameter to control this behavior.\n",
      "  _warn_prf(average, modifier, msg_start, len(result))\n"
     ]
    },
    {
     "name": "stdout",
     "output_type": "stream",
     "text": [
      "Random Forest Precision:99.16317991631799\n",
      "Logistic Regression Precision:94.18181818181817\n"
     ]
    }
   ],
   "source": [
    "print('Baseline Precision:{}'.format(100*precision_score(y_test,y_base_test)))\n",
    "print('Random Forest Precision:{}'.format(100*precision_score(y_test,rf.predict(X_test))))\n",
    "print('Logistic Regression Precision:{}'.format(100*precision_score(y_test,log_reg.predict(X_test))))"
   ]
  },
  {
   "cell_type": "markdown",
   "id": "e3ff008e",
   "metadata": {},
   "source": [
    "# Recall\n",
    "### percent of instances of minority that were labelled correctly"
   ]
  },
  {
   "cell_type": "code",
   "execution_count": 24,
   "id": "85a4cc78",
   "metadata": {},
   "outputs": [
    {
     "name": "stdout",
     "output_type": "stream",
     "text": [
      "Baseline Recall:0.0\n",
      "Random Forest Recall:61.55844155844156\n",
      "Logistic Regression Recall:67.27272727272727\n"
     ]
    }
   ],
   "source": [
    "print('Baseline Recall:{}'.format(100*recall_score(y_test,y_base_test)))\n",
    "print('Random Forest Recall:{}'.format(100*recall_score(y_test,rf.predict(X_test),pos_label=1)))\n",
    "print('Logistic Regression Recall:{}'.format(100*recall_score(y_test,log_reg.predict(X_test),pos_label=1)))"
   ]
  },
  {
   "cell_type": "markdown",
   "id": "f842b62a",
   "metadata": {},
   "source": [
    "# F1_score\n",
    "### Mix of Both Precision and Recall"
   ]
  },
  {
   "cell_type": "code",
   "execution_count": 25,
   "id": "6828fcc6",
   "metadata": {},
   "outputs": [
    {
     "name": "stdout",
     "output_type": "stream",
     "text": [
      "Baseline F1_score:0.0\n",
      "Random Forest F1_scorey:75.96153846153845\n",
      "Logistic Regression F1_score:78.48484848484848\n"
     ]
    }
   ],
   "source": [
    "print('Baseline F1_score:{}'.format(100*f1_score(y_test,y_base_test)))\n",
    "print('Random Forest F1_scorey:{}'.format(100*f1_score(y_test,rf.predict(X_test),pos_label=1)))\n",
    "print('Logistic Regression F1_score:{}'.format(100*f1_score(y_test,log_reg.predict(X_test),pos_label=1)))"
   ]
  },
  {
   "cell_type": "markdown",
   "id": "02b84f37",
   "metadata": {},
   "source": [
    "# Balanced Accuracy"
   ]
  },
  {
   "cell_type": "code",
   "execution_count": 26,
   "id": "c6d96f9a",
   "metadata": {},
   "outputs": [
    {
     "name": "stdout",
     "output_type": "stream",
     "text": [
      "Baseline balanced Accuracy:50.0\n",
      "Random Forest balanced Accuracy:80.77691349512489\n",
      "Logistic Regression balanced Accuracy:83.6179053635965\n"
     ]
    }
   ],
   "source": [
    "print('Baseline balanced Accuracy:{}'.format(100*balanced_accuracy_score(y_test,y_base_test)))\n",
    "print('Random Forest balanced Accuracy:{}'.format(100*balanced_accuracy_score(y_test,rf.predict(X_test))))\n",
    "print('Logistic Regression balanced Accuracy:{}'.format(100*balanced_accuracy_score(y_test,log_reg.predict(X_test))))"
   ]
  },
  {
   "cell_type": "markdown",
   "id": "73ecb938",
   "metadata": {},
   "source": [
    "Balanced accuracy of Baseline model is still 50% due to 100% Recall of majority class"
   ]
  },
  {
   "cell_type": "markdown",
   "id": "ff1c78c1",
   "metadata": {},
   "source": [
    "# Classification Report"
   ]
  },
  {
   "cell_type": "code",
   "execution_count": 27,
   "id": "34172d2d",
   "metadata": {
    "scrolled": true
   },
   "outputs": [
    {
     "name": "stdout",
     "output_type": "stream",
     "text": [
      "              precision    recall  f1-score   support\n",
      "\n",
      "           0       1.00      1.00      1.00     43341\n",
      "           1       0.99      0.62      0.76       385\n",
      "\n",
      "    accuracy                           1.00     43726\n",
      "   macro avg       0.99      0.81      0.88     43726\n",
      "weighted avg       1.00      1.00      1.00     43726\n",
      "\n"
     ]
    }
   ],
   "source": [
    "print(classification_report(y_test,rf.predict(X_test)))"
   ]
  },
  {
   "cell_type": "code",
   "execution_count": 28,
   "id": "c0609c19",
   "metadata": {},
   "outputs": [
    {
     "name": "stdout",
     "output_type": "stream",
     "text": [
      "              precision    recall  f1-score   support\n",
      "\n",
      "           0       1.00      1.00      1.00     43341\n",
      "           1       0.94      0.67      0.78       385\n",
      "\n",
      "    accuracy                           1.00     43726\n",
      "   macro avg       0.97      0.84      0.89     43726\n",
      "weighted avg       1.00      1.00      1.00     43726\n",
      "\n"
     ]
    }
   ],
   "source": [
    "print(classification_report(y_test,log_reg.predict(X_test)))"
   ]
  },
  {
   "cell_type": "markdown",
   "id": "00eea9f0",
   "metadata": {},
   "source": [
    "# Full Classification Report Yellowbricks"
   ]
  },
  {
   "cell_type": "markdown",
   "id": "e9103295",
   "metadata": {},
   "source": [
    "## Random Forest Classification report"
   ]
  },
  {
   "cell_type": "code",
   "execution_count": 29,
   "id": "1d58d0b3",
   "metadata": {},
   "outputs": [
    {
     "name": "stderr",
     "output_type": "stream",
     "text": [
      "C:\\Users\\ABHIGYAN\\AppData\\Roaming\\Python\\Python37\\site-packages\\sklearn\\base.py:451: UserWarning: X does not have valid feature names, but RandomForestClassifier was fitted with feature names\n",
      "  \"X does not have valid feature names, but\"\n"
     ]
    },
    {
     "data": {
      "image/png": "[encoded data removed]",
      "text/plain": [
       "<Figure size 432x288 with 2 Axes>"
      ]
     },
     "metadata": {
      "needs_background": "light"
     },
     "output_type": "display_data"
    },
    {
     "data": {
      "text/plain": [
       "<AxesSubplot:title={'center':'RandomForestClassifier Classification Report'}>"
      ]
     },
     "execution_count": 29,
     "metadata": {},
     "output_type": "execute_result"
    }
   ],
   "source": [
    "visualizer=ClassificationReport(rf)\n",
    "\n",
    "visualizer.fit(X_train,y_train)\n",
    "visualizer.score(X_test,y_test)\n",
    "visualizer.show()"
   ]
  },
  {
   "cell_type": "markdown",
   "id": "86e82cb8",
   "metadata": {},
   "source": [
    "## Logistic Regression Classification report"
   ]
  },
  {
   "cell_type": "code",
   "execution_count": 30,
   "id": "0afc9ba9",
   "metadata": {},
   "outputs": [
    {
     "name": "stderr",
     "output_type": "stream",
     "text": [
      "C:\\Users\\ABHIGYAN\\AppData\\Roaming\\Python\\Python37\\site-packages\\sklearn\\base.py:451: UserWarning: X does not have valid feature names, but LogisticRegression was fitted with feature names\n",
      "  \"X does not have valid feature names, but\"\n"
     ]
    },
    {
     "data": {
      "image/png": "[encoded data removed]",
      "text/plain": [
       "<Figure size 432x288 with 2 Axes>"
      ]
     },
     "metadata": {
      "needs_background": "light"
     },
     "output_type": "display_data"
    },
    {
     "data": {
      "text/plain": [
       "<AxesSubplot:title={'center':'LogisticRegression Classification Report'}>"
      ]
     },
     "execution_count": 30,
     "metadata": {},
     "output_type": "execute_result"
    }
   ],
   "source": [
    "visual_logit=ClassificationReport(log_reg)   #ClassificationReport from yellowbrick package\n",
    "\n",
    "visual_logit.fit(X_train,y_train)\n",
    "visual_logit.score(X_test,y_test)\n",
    "visual_logit.show()"
   ]
  },
  {
   "cell_type": "markdown",
   "id": "71451f0d",
   "metadata": {},
   "source": [
    "## Conclusion"
   ]
  },
  {
   "cell_type": "markdown",
   "id": "6ea3feee",
   "metadata": {},
   "source": [
    "For the minority Class,Random Forest has better precision than Logistic Regression, but lower Recall.  \n",
    "That means if minimising False negatives is the objective(Type II error), go with Logistic Regression.  \n",
    "If minimising false positives is the objective(Type I error), go with Random Forest."
   ]
  },
  {
   "cell_type": "markdown",
   "id": "ce4fe471",
   "metadata": {},
   "source": [
    "For majority class since support is quite high, both models perform equally well."
   ]
  },
  {
   "cell_type": "markdown",
   "id": "569e05a5",
   "metadata": {},
   "source": [
    "# Precision, Recall and Discrimination Threshold"
   ]
  },
  {
   "cell_type": "code",
   "execution_count": 32,
   "id": "bd410583",
   "metadata": {},
   "outputs": [
    {
     "name": "stderr",
     "output_type": "stream",
     "text": [
      "C:\\Users\\ABHIGYAN\\AppData\\Roaming\\Python\\Python37\\site-packages\\sklearn\\linear_model\\_logistic.py:818: ConvergenceWarning: lbfgs failed to converge (status=1):\n",
      "STOP: TOTAL NO. of ITERATIONS REACHED LIMIT.\n",
      "\n",
      "Increase the number of iterations (max_iter) or scale the data as shown in:\n",
      "    https://scikit-learn.org/stable/modules/preprocessing.html\n",
      "Please also refer to the documentation for alternative solver options:\n",
      "    https://scikit-learn.org/stable/modules/linear_model.html#logistic-regression\n",
      "  extra_warning_msg=_LOGISTIC_SOLVER_CONVERGENCE_MSG,\n",
      "C:\\Users\\ABHIGYAN\\AppData\\Roaming\\Python\\Python37\\site-packages\\sklearn\\base.py:451: UserWarning: X does not have valid feature names, but LogisticRegression was fitted with feature names\n",
      "  \"X does not have valid feature names, but\"\n"
     ]
    },
    {
     "data": {
      "image/png": "[encoded data removed]",
      "text/plain": [
       "<Figure size 432x288 with 1 Axes>"
      ]
     },
     "metadata": {
      "needs_background": "light"
     },
     "output_type": "display_data"
    },
    {
     "data": {
      "text/plain": [
       "<AxesSubplot:title={'center':'Threshold Plot for LogisticRegression'}, xlabel='discrimination threshold', ylabel='score'>"
      ]
     },
     "execution_count": 32,
     "metadata": {},
     "output_type": "execute_result"
    }
   ],
   "source": [
    "#Logistic Regression\n",
    "disc_viz_logit=DiscriminationThreshold(log_reg,n_trials=1,cv=0.5,argmax='fscore',random_state=28,exclude='queue_rate')\n",
    "\n",
    "disc_viz_logit.fit(X_train,y_train)   # fitting threshold visualizer on train data\n",
    "disc_viz_logit.score(X_test,y_test)\n",
    "disc_viz_logit.show()"
   ]
  },
  {
   "cell_type": "code",
   "execution_count": 34,
   "id": "9ef5b9d9",
   "metadata": {},
   "outputs": [
    {
     "name": "stderr",
     "output_type": "stream",
     "text": [
      "C:\\Users\\ABHIGYAN\\AppData\\Roaming\\Python\\Python37\\site-packages\\sklearn\\base.py:451: UserWarning: X does not have valid feature names, but RandomForestClassifier was fitted with feature names\n",
      "  \"X does not have valid feature names, but\"\n"
     ]
    },
    {
     "data": {
      "image/png": "[encoded data removed]",
      "text/plain": [
       "<Figure size 432x288 with 1 Axes>"
      ]
     },
     "metadata": {
      "needs_background": "light"
     },
     "output_type": "display_data"
    },
    {
     "data": {
      "text/plain": [
       "<AxesSubplot:title={'center':'Threshold Plot for RandomForestClassifier'}, xlabel='discrimination threshold', ylabel='score'>"
      ]
     },
     "execution_count": 34,
     "metadata": {},
     "output_type": "execute_result"
    }
   ],
   "source": [
    "# Random Forest\n",
    "disc_viz_rf=DiscriminationThreshold(rf,n_trials=1,cv=0.5,argmax='fscore',random_state=28,exclude='queue_rate')\n",
    "\n",
    "disc_viz_rf.fit(X_train,y_train)   # fitting threshold visualizer on train data\n",
    "disc_viz_rf.score(X_test,y_test)\n",
    "disc_viz_rf.show()"
   ]
  },
  {
   "cell_type": "code",
   "execution_count": null,
   "id": "e90ca0c7",
   "metadata": {},
   "outputs": [],
   "source": []
  }
 ],
 "metadata": {
  "kernelspec": {
   "display_name": "Python 3 (ipykernel)",
   "language": "python",
   "name": "python3"
  },
  "language_info": {
   "codemirror_mode": {
    "name": "ipython",
    "version": 3
   },
   "file_extension": ".py",
   "mimetype": "text/x-python",
   "name": "python",
   "nbconvert_exporter": "python",
   "pygments_lexer": "ipython3",
   "version": "3.7.13"
  }
 },
 "nbformat": 4,
 "nbformat_minor": 5
}
