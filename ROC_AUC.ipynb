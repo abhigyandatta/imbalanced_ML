{
 "cells": [
  {
   "cell_type": "code",
   "execution_count": 39,
   "id": "14f31342",
   "metadata": {},
   "outputs": [],
   "source": [
    "import numpy as np\n",
    "import pandas as pd\n",
    "import matplotlib.pyplot as plt\n",
    "plt.style.use('ggplot')"
   ]
  },
  {
   "cell_type": "code",
   "execution_count": 3,
   "id": "6dd4fe74",
   "metadata": {},
   "outputs": [],
   "source": [
    "from imblearn.datasets import fetch_datasets"
   ]
  },
  {
   "cell_type": "code",
   "execution_count": 4,
   "id": "1a861d49",
   "metadata": {},
   "outputs": [],
   "source": [
    "data=fetch_datasets()['protein_homo']"
   ]
  },
  {
   "cell_type": "code",
   "execution_count": 5,
   "id": "1ef9e6b3",
   "metadata": {},
   "outputs": [],
   "source": [
    "df=pd.DataFrame(data=data.data,columns=[str(i) for i in range(74)])"
   ]
  },
  {
   "cell_type": "code",
   "execution_count": 6,
   "id": "501c57d9",
   "metadata": {},
   "outputs": [],
   "source": [
    "df['target']=data.target"
   ]
  },
  {
   "cell_type": "code",
   "execution_count": 7,
   "id": "403a35fe",
   "metadata": {},
   "outputs": [
    {
     "data": {
      "text/html": [
       "<div>\n",
       "<style scoped>\n",
       "    .dataframe tbody tr th:only-of-type {\n",
       "        vertical-align: middle;\n",
       "    }\n",
       "\n",
       "    .dataframe tbody tr th {\n",
       "        vertical-align: top;\n",
       "    }\n",
       "\n",
       "    .dataframe thead th {\n",
       "        text-align: right;\n",
       "    }\n",
       "</style>\n",
       "<table border=\"1\" class=\"dataframe\">\n",
       "  <thead>\n",
       "    <tr style=\"text-align: right;\">\n",
       "      <th></th>\n",
       "      <th>0</th>\n",
       "      <th>1</th>\n",
       "      <th>2</th>\n",
       "      <th>3</th>\n",
       "      <th>4</th>\n",
       "      <th>5</th>\n",
       "      <th>6</th>\n",
       "      <th>7</th>\n",
       "      <th>8</th>\n",
       "      <th>9</th>\n",
       "      <th>...</th>\n",
       "      <th>65</th>\n",
       "      <th>66</th>\n",
       "      <th>67</th>\n",
       "      <th>68</th>\n",
       "      <th>69</th>\n",
       "      <th>70</th>\n",
       "      <th>71</th>\n",
       "      <th>72</th>\n",
       "      <th>73</th>\n",
       "      <th>target</th>\n",
       "    </tr>\n",
       "  </thead>\n",
       "  <tbody>\n",
       "    <tr>\n",
       "      <th>145622</th>\n",
       "      <td>78.24</td>\n",
       "      <td>18.82</td>\n",
       "      <td>-0.64</td>\n",
       "      <td>-3.5</td>\n",
       "      <td>44.5</td>\n",
       "      <td>2098.2</td>\n",
       "      <td>0.00</td>\n",
       "      <td>-1.38</td>\n",
       "      <td>-6.5</td>\n",
       "      <td>-53.0</td>\n",
       "      <td>...</td>\n",
       "      <td>1993.4</td>\n",
       "      <td>0.54</td>\n",
       "      <td>-0.60</td>\n",
       "      <td>-12.0</td>\n",
       "      <td>-89.0</td>\n",
       "      <td>99.1</td>\n",
       "      <td>1.52</td>\n",
       "      <td>0.30</td>\n",
       "      <td>0.30</td>\n",
       "      <td>-1</td>\n",
       "    </tr>\n",
       "    <tr>\n",
       "      <th>12075</th>\n",
       "      <td>38.10</td>\n",
       "      <td>33.93</td>\n",
       "      <td>-0.57</td>\n",
       "      <td>-38.0</td>\n",
       "      <td>12.5</td>\n",
       "      <td>1712.6</td>\n",
       "      <td>-1.13</td>\n",
       "      <td>0.53</td>\n",
       "      <td>3.0</td>\n",
       "      <td>-69.5</td>\n",
       "      <td>...</td>\n",
       "      <td>786.7</td>\n",
       "      <td>1.20</td>\n",
       "      <td>-3.56</td>\n",
       "      <td>-3.0</td>\n",
       "      <td>-26.0</td>\n",
       "      <td>357.7</td>\n",
       "      <td>0.78</td>\n",
       "      <td>0.17</td>\n",
       "      <td>-0.07</td>\n",
       "      <td>-1</td>\n",
       "    </tr>\n",
       "    <tr>\n",
       "      <th>420</th>\n",
       "      <td>16.00</td>\n",
       "      <td>50.00</td>\n",
       "      <td>0.17</td>\n",
       "      <td>-3.5</td>\n",
       "      <td>3.5</td>\n",
       "      <td>968.7</td>\n",
       "      <td>-0.24</td>\n",
       "      <td>-1.50</td>\n",
       "      <td>3.0</td>\n",
       "      <td>-36.0</td>\n",
       "      <td>...</td>\n",
       "      <td>528.0</td>\n",
       "      <td>0.58</td>\n",
       "      <td>-1.65</td>\n",
       "      <td>-3.0</td>\n",
       "      <td>-19.0</td>\n",
       "      <td>-2.2</td>\n",
       "      <td>1.25</td>\n",
       "      <td>1.00</td>\n",
       "      <td>0.16</td>\n",
       "      <td>-1</td>\n",
       "    </tr>\n",
       "  </tbody>\n",
       "</table>\n",
       "<p>3 rows × 75 columns</p>\n",
       "</div>"
      ],
      "text/plain": [
       "            0      1     2     3     4       5     6     7    8     9  ...  \\\n",
       "145622  78.24  18.82 -0.64  -3.5  44.5  2098.2  0.00 -1.38 -6.5 -53.0  ...   \n",
       "12075   38.10  33.93 -0.57 -38.0  12.5  1712.6 -1.13  0.53  3.0 -69.5  ...   \n",
       "420     16.00  50.00  0.17  -3.5   3.5   968.7 -0.24 -1.50  3.0 -36.0  ...   \n",
       "\n",
       "            65    66    67    68    69     70    71    72    73  target  \n",
       "145622  1993.4  0.54 -0.60 -12.0 -89.0   99.1  1.52  0.30  0.30      -1  \n",
       "12075    786.7  1.20 -3.56  -3.0 -26.0  357.7  0.78  0.17 -0.07      -1  \n",
       "420      528.0  0.58 -1.65  -3.0 -19.0   -2.2  1.25  1.00  0.16      -1  \n",
       "\n",
       "[3 rows x 75 columns]"
      ]
     },
     "execution_count": 7,
     "metadata": {},
     "output_type": "execute_result"
    }
   ],
   "source": [
    "df.sample(3)"
   ]
  },
  {
   "cell_type": "code",
   "execution_count": 8,
   "id": "62408d8c",
   "metadata": {},
   "outputs": [],
   "source": [
    "df['target']=df['target'].map({-1:0,1:1})"
   ]
  },
  {
   "cell_type": "code",
   "execution_count": 9,
   "id": "79353cbb",
   "metadata": {},
   "outputs": [
    {
     "data": {
      "text/html": [
       "<div>\n",
       "<style scoped>\n",
       "    .dataframe tbody tr th:only-of-type {\n",
       "        vertical-align: middle;\n",
       "    }\n",
       "\n",
       "    .dataframe tbody tr th {\n",
       "        vertical-align: top;\n",
       "    }\n",
       "\n",
       "    .dataframe thead th {\n",
       "        text-align: right;\n",
       "    }\n",
       "</style>\n",
       "<table border=\"1\" class=\"dataframe\">\n",
       "  <thead>\n",
       "    <tr style=\"text-align: right;\">\n",
       "      <th></th>\n",
       "      <th>0</th>\n",
       "      <th>1</th>\n",
       "      <th>2</th>\n",
       "      <th>3</th>\n",
       "      <th>4</th>\n",
       "      <th>5</th>\n",
       "      <th>6</th>\n",
       "      <th>7</th>\n",
       "      <th>8</th>\n",
       "      <th>9</th>\n",
       "      <th>...</th>\n",
       "      <th>65</th>\n",
       "      <th>66</th>\n",
       "      <th>67</th>\n",
       "      <th>68</th>\n",
       "      <th>69</th>\n",
       "      <th>70</th>\n",
       "      <th>71</th>\n",
       "      <th>72</th>\n",
       "      <th>73</th>\n",
       "      <th>target</th>\n",
       "    </tr>\n",
       "  </thead>\n",
       "  <tbody>\n",
       "    <tr>\n",
       "      <th>30869</th>\n",
       "      <td>86.73</td>\n",
       "      <td>23.47</td>\n",
       "      <td>1.34</td>\n",
       "      <td>-16.5</td>\n",
       "      <td>10.5</td>\n",
       "      <td>1105.6</td>\n",
       "      <td>-0.45</td>\n",
       "      <td>-1.00</td>\n",
       "      <td>-12.0</td>\n",
       "      <td>-42.0</td>\n",
       "      <td>...</td>\n",
       "      <td>1092.9</td>\n",
       "      <td>0.88</td>\n",
       "      <td>0.78</td>\n",
       "      <td>12.0</td>\n",
       "      <td>-43.0</td>\n",
       "      <td>400.5</td>\n",
       "      <td>0.28</td>\n",
       "      <td>-0.11</td>\n",
       "      <td>-0.77</td>\n",
       "      <td>0</td>\n",
       "    </tr>\n",
       "    <tr>\n",
       "      <th>71122</th>\n",
       "      <td>62.40</td>\n",
       "      <td>24.36</td>\n",
       "      <td>-0.07</td>\n",
       "      <td>12.5</td>\n",
       "      <td>16.0</td>\n",
       "      <td>1748.8</td>\n",
       "      <td>-0.93</td>\n",
       "      <td>0.79</td>\n",
       "      <td>28.5</td>\n",
       "      <td>-77.0</td>\n",
       "      <td>...</td>\n",
       "      <td>1417.3</td>\n",
       "      <td>0.42</td>\n",
       "      <td>0.47</td>\n",
       "      <td>-6.0</td>\n",
       "      <td>-33.0</td>\n",
       "      <td>204.0</td>\n",
       "      <td>0.58</td>\n",
       "      <td>0.42</td>\n",
       "      <td>0.74</td>\n",
       "      <td>0</td>\n",
       "    </tr>\n",
       "    <tr>\n",
       "      <th>14687</th>\n",
       "      <td>67.74</td>\n",
       "      <td>21.43</td>\n",
       "      <td>-1.59</td>\n",
       "      <td>-64.0</td>\n",
       "      <td>70.5</td>\n",
       "      <td>1709.2</td>\n",
       "      <td>-0.70</td>\n",
       "      <td>-0.77</td>\n",
       "      <td>-19.0</td>\n",
       "      <td>-51.0</td>\n",
       "      <td>...</td>\n",
       "      <td>533.1</td>\n",
       "      <td>0.02</td>\n",
       "      <td>0.67</td>\n",
       "      <td>3.0</td>\n",
       "      <td>-40.0</td>\n",
       "      <td>-33.7</td>\n",
       "      <td>1.15</td>\n",
       "      <td>0.58</td>\n",
       "      <td>0.63</td>\n",
       "      <td>0</td>\n",
       "    </tr>\n",
       "  </tbody>\n",
       "</table>\n",
       "<p>3 rows × 75 columns</p>\n",
       "</div>"
      ],
      "text/plain": [
       "           0      1     2     3     4       5     6     7     8     9  ...  \\\n",
       "30869  86.73  23.47  1.34 -16.5  10.5  1105.6 -0.45 -1.00 -12.0 -42.0  ...   \n",
       "71122  62.40  24.36 -0.07  12.5  16.0  1748.8 -0.93  0.79  28.5 -77.0  ...   \n",
       "14687  67.74  21.43 -1.59 -64.0  70.5  1709.2 -0.70 -0.77 -19.0 -51.0  ...   \n",
       "\n",
       "           65    66    67    68    69     70    71    72    73  target  \n",
       "30869  1092.9  0.88  0.78  12.0 -43.0  400.5  0.28 -0.11 -0.77       0  \n",
       "71122  1417.3  0.42  0.47  -6.0 -33.0  204.0  0.58  0.42  0.74       0  \n",
       "14687   533.1  0.02  0.67   3.0 -40.0  -33.7  1.15  0.58  0.63       0  \n",
       "\n",
       "[3 rows x 75 columns]"
      ]
     },
     "execution_count": 9,
     "metadata": {},
     "output_type": "execute_result"
    }
   ],
   "source": [
    "df.sample(3)"
   ]
  },
  {
   "cell_type": "code",
   "execution_count": 11,
   "id": "ba415647",
   "metadata": {},
   "outputs": [
    {
     "data": {
      "text/plain": [
       "0    99.110812\n",
       "1     0.889188\n",
       "Name: target, dtype: float64"
      ]
     },
     "execution_count": 11,
     "metadata": {},
     "output_type": "execute_result"
    }
   ],
   "source": [
    "# Percentage of each class\n",
    "df['target'].value_counts()*100/len(df)"
   ]
  },
  {
   "cell_type": "code",
   "execution_count": 12,
   "id": "c473502c",
   "metadata": {},
   "outputs": [
    {
     "data": {
      "text/plain": [
       "(145751, 75)"
      ]
     },
     "execution_count": 12,
     "metadata": {},
     "output_type": "execute_result"
    }
   ],
   "source": [
    "df.shape"
   ]
  },
  {
   "cell_type": "markdown",
   "id": "a63de794",
   "metadata": {},
   "source": [
    "# Train Test Split"
   ]
  },
  {
   "cell_type": "code",
   "execution_count": 13,
   "id": "ea69a63b",
   "metadata": {},
   "outputs": [],
   "source": [
    "from sklearn.model_selection import train_test_split"
   ]
  },
  {
   "cell_type": "code",
   "execution_count": 14,
   "id": "b776be0f",
   "metadata": {},
   "outputs": [],
   "source": [
    "X=df.drop(['target'],axis=1)\n",
    "y=df['target']"
   ]
  },
  {
   "cell_type": "code",
   "execution_count": 15,
   "id": "a6402501",
   "metadata": {},
   "outputs": [],
   "source": [
    "X_train, X_test, y_train, y_test = train_test_split(X, y, test_size=0.3, random_state=20)"
   ]
  },
  {
   "cell_type": "code",
   "execution_count": 16,
   "id": "3b13f643",
   "metadata": {},
   "outputs": [
    {
     "name": "stdout",
     "output_type": "stream",
     "text": [
      "(102025, 74)\n",
      "(43726, 74)\n",
      "(102025,)\n",
      "(43726,)\n"
     ]
    }
   ],
   "source": [
    "print(X_train.shape)\n",
    "print(X_test.shape)\n",
    "print(y_train.shape)\n",
    "print(y_test.shape)"
   ]
  },
  {
   "cell_type": "markdown",
   "id": "f99ad54f",
   "metadata": {},
   "source": [
    "## Importing Metrics and models"
   ]
  },
  {
   "cell_type": "code",
   "execution_count": 17,
   "id": "419cb621",
   "metadata": {},
   "outputs": [],
   "source": [
    "from sklearn.linear_model import LogisticRegression\n",
    "from sklearn.ensemble import RandomForestClassifier\n",
    "from sklearn.metrics import classification_report,roc_auc_score,plot_roc_curve,plot_precision_recall_curve\n",
    "\n",
    "from yellowbrick.classifier import ROCAUC"
   ]
  },
  {
   "cell_type": "markdown",
   "id": "ddd002cc",
   "metadata": {},
   "source": [
    "# Baseline Model \n",
    "### (all classified as majority class)"
   ]
  },
  {
   "cell_type": "code",
   "execution_count": 18,
   "id": "3865baca",
   "metadata": {},
   "outputs": [],
   "source": [
    "y_base_train=pd.Series(np.zeros(len(X_train)))\n",
    "y_base_test=pd.Series(np.zeros(len(X_test)))"
   ]
  },
  {
   "cell_type": "markdown",
   "id": "db833909",
   "metadata": {},
   "source": [
    "# Random Forest Classifier"
   ]
  },
  {
   "cell_type": "code",
   "execution_count": 30,
   "id": "a66dc608",
   "metadata": {},
   "outputs": [],
   "source": [
    "rf=RandomForestClassifier(max_depth=4,n_jobs=-1,random_state=20,n_estimators=50)\n",
    "\n",
    "rf.fit(X_train,y_train)\n",
    "\n",
    "y_rf_proba=rf.predict_proba(X_test)[:,1]"
   ]
  },
  {
   "cell_type": "markdown",
   "id": "28ece8b0",
   "metadata": {},
   "source": [
    "# Logistic Regression Classifier"
   ]
  },
  {
   "cell_type": "code",
   "execution_count": 31,
   "id": "1c02b863",
   "metadata": {},
   "outputs": [
    {
     "name": "stderr",
     "output_type": "stream",
     "text": [
      "C:\\Users\\ABHIGYAN\\AppData\\Roaming\\Python\\Python37\\site-packages\\sklearn\\linear_model\\_logistic.py:818: ConvergenceWarning: lbfgs failed to converge (status=1):\n",
      "STOP: TOTAL NO. of ITERATIONS REACHED LIMIT.\n",
      "\n",
      "Increase the number of iterations (max_iter) or scale the data as shown in:\n",
      "    https://scikit-learn.org/stable/modules/preprocessing.html\n",
      "Please also refer to the documentation for alternative solver options:\n",
      "    https://scikit-learn.org/stable/modules/linear_model.html#logistic-regression\n",
      "  extra_warning_msg=_LOGISTIC_SOLVER_CONVERGENCE_MSG,\n"
     ]
    }
   ],
   "source": [
    "logit=LogisticRegression(max_iter=200,random_state=20)\n",
    "\n",
    "logit.fit(X_train,y_train)\n",
    "\n",
    "y_logit_proba=logit.predict_proba(X_test)[:,1]"
   ]
  },
  {
   "cell_type": "markdown",
   "id": "5af49639",
   "metadata": {},
   "source": [
    "# ROC_AUC"
   ]
  },
  {
   "cell_type": "code",
   "execution_count": 32,
   "id": "2bcb4e5b",
   "metadata": {},
   "outputs": [
    {
     "name": "stdout",
     "output_type": "stream",
     "text": [
      "Baseline AUC:0.5\n",
      "Random Forest AUC:0.9646156555669264\n",
      "Logistic Regression AUC:0.9819333194832376\n"
     ]
    }
   ],
   "source": [
    "print('Baseline AUC:{}'.format(roc_auc_score(y_test,y_base_test)))\n",
    "print('Random Forest AUC:{}'.format(roc_auc_score(y_test,y_rf_proba)))\n",
    "print('Logistic Regression AUC:{}'.format(roc_auc_score(y_test,y_logit_proba)))"
   ]
  },
  {
   "cell_type": "markdown",
   "id": "9ee43b87",
   "metadata": {},
   "source": [
    "# Plotting ROC curve"
   ]
  },
  {
   "cell_type": "code",
   "execution_count": 34,
   "id": "52df917d",
   "metadata": {},
   "outputs": [
    {
     "name": "stderr",
     "output_type": "stream",
     "text": [
      "C:\\Users\\ABHIGYAN\\AppData\\Roaming\\Python\\Python37\\site-packages\\sklearn\\utils\\deprecation.py:87: FutureWarning: Function plot_roc_curve is deprecated; Function :func:`plot_roc_curve` is deprecated in 1.0 and will be removed in 1.2. Use one of the class methods: :meth:`sklearn.metric.RocCurveDisplay.from_predictions` or :meth:`sklearn.metric.RocCurveDisplay.from_estimator`.\n",
      "  warnings.warn(msg, category=FutureWarning)\n",
      "C:\\Users\\ABHIGYAN\\AppData\\Roaming\\Python\\Python37\\site-packages\\sklearn\\utils\\deprecation.py:87: FutureWarning: Function plot_roc_curve is deprecated; Function :func:`plot_roc_curve` is deprecated in 1.0 and will be removed in 1.2. Use one of the class methods: :meth:`sklearn.metric.RocCurveDisplay.from_predictions` or :meth:`sklearn.metric.RocCurveDisplay.from_estimator`.\n",
      "  warnings.warn(msg, category=FutureWarning)\n"
     ]
    },
    {
     "data": {
      "image/png": "[encoded data removed]",
      "text/plain": [
       "<Figure size 432x288 with 1 Axes>"
      ]
     },
     "metadata": {
      "needs_background": "light"
     },
     "output_type": "display_data"
    },
    {
     "data": {
      "image/png": "[encoded data removed]",
      "text/plain": [
       "<Figure size 432x288 with 1 Axes>"
      ]
     },
     "metadata": {
      "needs_background": "light"
     },
     "output_type": "display_data"
    }
   ],
   "source": [
    "rf_disp=plot_roc_curve(rf,X_test,y_test)\n",
    "logit_disp=plot_roc_curve(logit,X_test,y_test)"
   ]
  },
  {
   "cell_type": "code",
   "execution_count": 41,
   "id": "01419210",
   "metadata": {},
   "outputs": [
    {
     "data": {
      "text/plain": [
       "<sklearn.metrics._plot.roc_curve.RocCurveDisplay at 0x294d807d8c8>"
      ]
     },
     "execution_count": 41,
     "metadata": {},
     "output_type": "execute_result"
    },
    {
     "data": {
      "image/png": "[encoded data removed]",
      "text/plain": [
       "<Figure size 576x432 with 1 Axes>"
      ]
     },
     "metadata": {},
     "output_type": "display_data"
    }
   ],
   "source": [
    "fig,ax=plt.subplots(1,1,figsize=(8,6))\n",
    "rf_disp.plot(ax=ax,color='red')\n",
    "logit_disp.plot(ax=ax,color='blue')"
   ]
  },
  {
   "cell_type": "markdown",
   "id": "b88aa326",
   "metadata": {},
   "source": [
    "# ROC_AUC with Yellowbrick"
   ]
  },
  {
   "cell_type": "code",
   "execution_count": 45,
   "id": "6ddef54c",
   "metadata": {},
   "outputs": [
    {
     "name": "stderr",
     "output_type": "stream",
     "text": [
      "C:\\Users\\ABHIGYAN\\AppData\\Roaming\\Python\\Python37\\site-packages\\sklearn\\base.py:451: UserWarning: X does not have valid feature names, but RandomForestClassifier was fitted with feature names\n",
      "  \"X does not have valid feature names, but\"\n"
     ]
    },
    {
     "data": {
      "image/png": "[encoded data removed]",
      "text/plain": [
       "<Figure size 432x288 with 1 Axes>"
      ]
     },
     "metadata": {},
     "output_type": "display_data"
    },
    {
     "data": {
      "text/plain": [
       "<AxesSubplot:title={'center':'ROC Curves for RandomForestClassifier'}, xlabel='False Positive Rate', ylabel='True Positive Rate'>"
      ]
     },
     "execution_count": 45,
     "metadata": {},
     "output_type": "execute_result"
    }
   ],
   "source": [
    "yellow_viz=ROCAUC(rf)\n",
    "\n",
    "yellow_viz.fit(X_train,y_train)\n",
    "yellow_viz.score(X_test,y_test)\n",
    "yellow_viz.show()"
   ]
  },
  {
   "cell_type": "code",
   "execution_count": null,
   "id": "418f5f83",
   "metadata": {},
   "outputs": [],
   "source": []
  }
 ],
 "metadata": {
  "kernelspec": {
   "display_name": "Python 3 (ipykernel)",
   "language": "python",
   "name": "python3"
  },
  "language_info": {
   "codemirror_mode": {
    "name": "ipython",
    "version": 3
   },
   "file_extension": ".py",
   "mimetype": "text/x-python",
   "name": "python",
   "nbconvert_exporter": "python",
   "pygments_lexer": "ipython3",
   "version": "3.7.13"
  }
 },
 "nbformat": 4,
 "nbformat_minor": 5
}
